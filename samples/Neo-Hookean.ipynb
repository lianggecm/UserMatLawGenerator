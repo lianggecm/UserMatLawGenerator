{
 "cells": [
  {
   "cell_type": "code",
   "execution_count": null,
   "metadata": {
    "collapsed": false
   },
   "outputs": [],
   "source": [
    "load('umatgen.py')\n",
    "\n",
    "NH=umat(Implicit=True, project='Tets_NH',\n",
    "         outfile=\"NH\", outroutine=\"NH\", FEAFormat='LSDyna')\n",
    "C=NH.C\n",
    "\n",
    "parG, parLambda=var('G, Lambda')\n",
    "# calculate the isochoric GST invariant\n",
    "NH.W=(parG/2*(I1(C)-3-2*log(NH.Jacobian))\n",
    "      +parLambda/2*(log((NH.Jacobian)))^2)\n",
    "show(NH.W)\n",
    "\n",
    "NH.write()"
   ]
  }
 ],
 "metadata": {
  "kernelspec": {
   "display_name": "SageMath 6.10",
   "language": "",
   "name": "sagemath"
  },
  "language_info": {
   "codemirror_mode": {
    "name": "ipython",
    "version": 2
   },
   "file_extension": ".py",
   "mimetype": "text/x-python",
   "name": "python",
   "nbconvert_exporter": "python",
   "pygments_lexer": "ipython2",
   "version": "2.7.10"
  },
  "name": "Neo-Hookean.ipynb"
 },
 "nbformat": 4,
 "nbformat_minor": 0
}
