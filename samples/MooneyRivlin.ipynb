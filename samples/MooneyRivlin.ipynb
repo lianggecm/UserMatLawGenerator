{
 "cells": [
  {
   "cell_type": "code",
   "execution_count": null,
   "metadata": {
    "collapsed": false
   },
   "outputs": [],
   "source": [
    "from umatgen import *\n",
    "\n",
    "var('parA, parB, parC, parD, parNu')\n",
    "\n",
    "MR=umat(Implicit=True, project='Test_MooneyRivlin',\n",
    "        outfile=\"MooneyRivlin\", outroutine=\"MR\")\n",
    "\n",
    "parC=1/2*parA+parB\n",
    "parD=(parA*(5*parNu-2)+parB*(11*parNu-5))/(2*(1-2*parNu))\n",
    "\n",
    "C=MR.C\n",
    "\n",
    "MR.W=(parA*(I1(C)-3)+parB*(I2(C)-3)+parC*(I3(C)^(-2)-1)+parD*(I3(C)-1)^2)\n",
    "\n",
    "MR.write()"
   ]
  },
  {
   "cell_type": "code",
   "execution_count": null,
   "metadata": {
    "collapsed": true
   },
   "outputs": [],
   "source": []
  }
 ],
 "metadata": {
  "kernelspec": {
   "display_name": "SageMath 6.10",
   "language": "",
   "name": "sagemath"
  },
  "language_info": {
   "codemirror_mode": {
    "name": "ipython",
    "version": 2
   },
   "file_extension": ".py",
   "mimetype": "text/x-python",
   "name": "python",
   "nbconvert_exporter": "python",
   "pygments_lexer": "ipython2",
   "version": "2.7.10"
  }
 },
 "nbformat": 4,
 "nbformat_minor": 0
}
