{
 "cells": [
  {
   "cell_type": "code",
   "execution_count": null,
   "metadata": {
    "collapsed": false
   },
   "outputs": [],
   "source": [
    "from umatgen import *\n",
    "\n",
    "GST=umat(Implicit=True, project='Tets_GST',\n",
    "         outfile=\"GST_Incp\", outroutine=\"GST_Incp\")\n",
    "\n",
    "C_Bar=GST.C_Bar\n",
    "\n",
    "# calculate the isochoric GST invariant\n",
    "E_i=I4_GST_kappa(C_Bar)\n",
    "\n",
    "var('parK1, parK2, parK, parC')\n",
    "# Isochoric strain energy function for dispersed fiber\n",
    "W_isc=parK1/(2*parK2)*(exp(parK2*(E_i)^2)-1)\n",
    "\n",
    "# Strain energy function for extra-cellular matrix\n",
    "W_em=parC/2*(I1(C_Bar)-3)\n",
    "\n",
    "# Volumetric strain energy function\n",
    "W_vol=parK*1/2*(GST.Jacobian-1)^2\n",
    "\n",
    "# Setting the strain energy function\n",
    "GST.W=W_isc+W_vol+W_em\n",
    "# Output the source code\n",
    "GST.write()\n"
   ]
  }
 ],
 "metadata": {
  "kernelspec": {
   "display_name": "SageMath 6.10",
   "language": "",
   "name": "sagemath"
  },
  "language_info": {
   "codemirror_mode": {
    "name": "ipython",
    "version": 2
   },
   "file_extension": ".py",
   "mimetype": "text/x-python",
   "name": "python",
   "nbconvert_exporter": "python",
   "pygments_lexer": "ipython2",
   "version": "2.7.10"
  }
 },
 "nbformat": 4,
 "nbformat_minor": 0
}
