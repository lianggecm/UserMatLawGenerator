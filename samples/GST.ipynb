{
 "cells": [
  {
   "cell_type": "code",
   "execution_count": null,
   "metadata": {
    "collapsed": false
   },
   "outputs": [],
   "source": [
    "from umatgen import *\n",
    "b_in=10\n",
    "GST=umat(Implicit=True, project='Tets_GST',\n",
    "         outfile=\"GST\", outroutine=\"GST\", lang='F95')\n",
    "C=GST.C\n",
    "\n",
    "# calculate the  GST invariant\n",
    "E_i=I4_GST(C, b=b_in)\n",
    "\n",
    "var('parK1, parK2, parK')\n",
    "\n",
    "W=parK1/(2*parK2)*(exp(parK2*(E_i)^2)-1)\n",
    "# Setting the strain energy function\n",
    "GST.W=W\n",
    "# Output the source code\n",
    "GST.write()"
   ]
  }
 ],
 "metadata": {
  "kernelspec": {
   "display_name": "SageMath 6.10",
   "language": "",
   "name": "sagemath"
  },
  "language_info": {
   "codemirror_mode": {
    "name": "ipython",
    "version": 2
   },
   "file_extension": ".py",
   "mimetype": "text/x-python",
   "name": "python",
   "nbconvert_exporter": "python",
   "pygments_lexer": "ipython2",
   "version": "2.7.10"
  }
 },
 "nbformat": 4,
 "nbformat_minor": 0
}
